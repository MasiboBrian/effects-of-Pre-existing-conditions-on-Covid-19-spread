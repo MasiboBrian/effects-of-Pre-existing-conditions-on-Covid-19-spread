{
 "cells": [
  {
   "cell_type": "code",
   "execution_count": 43,
   "metadata": {},
   "outputs": [],
   "source": [
    "import numpy as np\n",
    "import pandas as pd\n",
    "from sklearn.preprocessing import LabelEncoder, OneHotEncoder\n",
    "from sklearn.impute import SimpleImputer\n",
    "import numpy as np\n",
    "from sklearn.naive_bayes import GaussianNB\n",
    "from sklearn.metrics import accuracy_score\n",
    "import pandas as pd\n",
    "from sklearn import preprocessing\n",
    "from sklearn.preprocessing import Normalizer\n",
    "from sklearn.decomposition import PCA\n",
    "import seaborn as sns\n",
    "import matplotlib.pyplot as plt\n",
    "%matplotlib inline\n",
    "from sklearn import metrics"
   ]
  },
  {
   "cell_type": "code",
   "execution_count": 44,
   "metadata": {
    "scrolled": true
   },
   "outputs": [
    {
     "data": {
      "text/html": [
       "<div>\n",
       "<style scoped>\n",
       "    .dataframe tbody tr th:only-of-type {\n",
       "        vertical-align: middle;\n",
       "    }\n",
       "\n",
       "    .dataframe tbody tr th {\n",
       "        vertical-align: top;\n",
       "    }\n",
       "\n",
       "    .dataframe thead th {\n",
       "        text-align: right;\n",
       "    }\n",
       "</style>\n",
       "<table border=\"1\" class=\"dataframe\">\n",
       "  <thead>\n",
       "    <tr style=\"text-align: right;\">\n",
       "      <th></th>\n",
       "      <th>sex</th>\n",
       "      <th>pneumonia</th>\n",
       "      <th>age</th>\n",
       "      <th>asthma</th>\n",
       "      <th>hypertension</th>\n",
       "      <th>cardiovascular</th>\n",
       "      <th>covid_res</th>\n",
       "    </tr>\n",
       "  </thead>\n",
       "  <tbody>\n",
       "    <tr>\n",
       "      <th>0</th>\n",
       "      <td>2</td>\n",
       "      <td>2</td>\n",
       "      <td>50</td>\n",
       "      <td>2</td>\n",
       "      <td>1</td>\n",
       "      <td>2</td>\n",
       "      <td>2</td>\n",
       "    </tr>\n",
       "    <tr>\n",
       "      <th>1</th>\n",
       "      <td>2</td>\n",
       "      <td>2</td>\n",
       "      <td>42</td>\n",
       "      <td>2</td>\n",
       "      <td>2</td>\n",
       "      <td>2</td>\n",
       "      <td>2</td>\n",
       "    </tr>\n",
       "    <tr>\n",
       "      <th>2</th>\n",
       "      <td>2</td>\n",
       "      <td>2</td>\n",
       "      <td>37</td>\n",
       "      <td>2</td>\n",
       "      <td>2</td>\n",
       "      <td>2</td>\n",
       "      <td>2</td>\n",
       "    </tr>\n",
       "    <tr>\n",
       "      <th>3</th>\n",
       "      <td>1</td>\n",
       "      <td>1</td>\n",
       "      <td>44</td>\n",
       "      <td>2</td>\n",
       "      <td>2</td>\n",
       "      <td>2</td>\n",
       "      <td>2</td>\n",
       "    </tr>\n",
       "    <tr>\n",
       "      <th>4</th>\n",
       "      <td>2</td>\n",
       "      <td>2</td>\n",
       "      <td>27</td>\n",
       "      <td>2</td>\n",
       "      <td>2</td>\n",
       "      <td>2</td>\n",
       "      <td>2</td>\n",
       "    </tr>\n",
       "  </tbody>\n",
       "</table>\n",
       "</div>"
      ],
      "text/plain": [
       "   sex  pneumonia  age  asthma  hypertension  cardiovascular  covid_res\n",
       "0    2          2   50       2             1               2          2\n",
       "1    2          2   42       2             2               2          2\n",
       "2    2          2   37       2             2               2          2\n",
       "3    1          1   44       2             2               2          2\n",
       "4    2          2   27       2             2               2          2"
      ]
     },
     "execution_count": 44,
     "metadata": {},
     "output_type": "execute_result"
    }
   ],
   "source": [
    "dataset = pd.read_csv('C:/pydatafiles/Italy.csv')\n",
    "dataset.head()"
   ]
  },
  {
   "cell_type": "code",
   "execution_count": 45,
   "metadata": {},
   "outputs": [
    {
     "data": {
      "text/html": [
       "<div>\n",
       "<style scoped>\n",
       "    .dataframe tbody tr th:only-of-type {\n",
       "        vertical-align: middle;\n",
       "    }\n",
       "\n",
       "    .dataframe tbody tr th {\n",
       "        vertical-align: top;\n",
       "    }\n",
       "\n",
       "    .dataframe thead th {\n",
       "        text-align: right;\n",
       "    }\n",
       "</style>\n",
       "<table border=\"1\" class=\"dataframe\">\n",
       "  <thead>\n",
       "    <tr style=\"text-align: right;\">\n",
       "      <th></th>\n",
       "      <th>sex</th>\n",
       "      <th>pneumonia</th>\n",
       "      <th>age</th>\n",
       "      <th>asthma</th>\n",
       "      <th>hypertension</th>\n",
       "      <th>cardiovascular</th>\n",
       "      <th>covid_res</th>\n",
       "    </tr>\n",
       "  </thead>\n",
       "  <tbody>\n",
       "    <tr>\n",
       "      <th>count</th>\n",
       "      <td>308587.000000</td>\n",
       "      <td>308587.000000</td>\n",
       "      <td>308587.000000</td>\n",
       "      <td>308587.000000</td>\n",
       "      <td>308587.000000</td>\n",
       "      <td>308587.000000</td>\n",
       "      <td>308587.000000</td>\n",
       "    </tr>\n",
       "    <tr>\n",
       "      <th>mean</th>\n",
       "      <td>1.506340</td>\n",
       "      <td>1.843791</td>\n",
       "      <td>42.545428</td>\n",
       "      <td>2.244158</td>\n",
       "      <td>2.123100</td>\n",
       "      <td>2.263047</td>\n",
       "      <td>1.558919</td>\n",
       "    </tr>\n",
       "    <tr>\n",
       "      <th>std</th>\n",
       "      <td>0.499961</td>\n",
       "      <td>0.615019</td>\n",
       "      <td>16.626365</td>\n",
       "      <td>5.152978</td>\n",
       "      <td>5.250108</td>\n",
       "      <td>5.234484</td>\n",
       "      <td>0.496517</td>\n",
       "    </tr>\n",
       "    <tr>\n",
       "      <th>min</th>\n",
       "      <td>1.000000</td>\n",
       "      <td>1.000000</td>\n",
       "      <td>0.000000</td>\n",
       "      <td>1.000000</td>\n",
       "      <td>1.000000</td>\n",
       "      <td>1.000000</td>\n",
       "      <td>1.000000</td>\n",
       "    </tr>\n",
       "    <tr>\n",
       "      <th>25%</th>\n",
       "      <td>1.000000</td>\n",
       "      <td>2.000000</td>\n",
       "      <td>31.000000</td>\n",
       "      <td>2.000000</td>\n",
       "      <td>2.000000</td>\n",
       "      <td>2.000000</td>\n",
       "      <td>1.000000</td>\n",
       "    </tr>\n",
       "    <tr>\n",
       "      <th>50%</th>\n",
       "      <td>2.000000</td>\n",
       "      <td>2.000000</td>\n",
       "      <td>41.000000</td>\n",
       "      <td>2.000000</td>\n",
       "      <td>2.000000</td>\n",
       "      <td>2.000000</td>\n",
       "      <td>2.000000</td>\n",
       "    </tr>\n",
       "    <tr>\n",
       "      <th>75%</th>\n",
       "      <td>2.000000</td>\n",
       "      <td>2.000000</td>\n",
       "      <td>53.000000</td>\n",
       "      <td>2.000000</td>\n",
       "      <td>2.000000</td>\n",
       "      <td>2.000000</td>\n",
       "      <td>2.000000</td>\n",
       "    </tr>\n",
       "    <tr>\n",
       "      <th>max</th>\n",
       "      <td>2.000000</td>\n",
       "      <td>99.000000</td>\n",
       "      <td>120.000000</td>\n",
       "      <td>98.000000</td>\n",
       "      <td>98.000000</td>\n",
       "      <td>98.000000</td>\n",
       "      <td>2.000000</td>\n",
       "    </tr>\n",
       "  </tbody>\n",
       "</table>\n",
       "</div>"
      ],
      "text/plain": [
       "                 sex      pneumonia            age         asthma  \\\n",
       "count  308587.000000  308587.000000  308587.000000  308587.000000   \n",
       "mean        1.506340       1.843791      42.545428       2.244158   \n",
       "std         0.499961       0.615019      16.626365       5.152978   \n",
       "min         1.000000       1.000000       0.000000       1.000000   \n",
       "25%         1.000000       2.000000      31.000000       2.000000   \n",
       "50%         2.000000       2.000000      41.000000       2.000000   \n",
       "75%         2.000000       2.000000      53.000000       2.000000   \n",
       "max         2.000000      99.000000     120.000000      98.000000   \n",
       "\n",
       "        hypertension  cardiovascular      covid_res  \n",
       "count  308587.000000   308587.000000  308587.000000  \n",
       "mean        2.123100        2.263047       1.558919  \n",
       "std         5.250108        5.234484       0.496517  \n",
       "min         1.000000        1.000000       1.000000  \n",
       "25%         2.000000        2.000000       1.000000  \n",
       "50%         2.000000        2.000000       2.000000  \n",
       "75%         2.000000        2.000000       2.000000  \n",
       "max        98.000000       98.000000       2.000000  "
      ]
     },
     "execution_count": 45,
     "metadata": {},
     "output_type": "execute_result"
    }
   ],
   "source": [
    "dataset.describe()"
   ]
  },
  {
   "cell_type": "code",
   "execution_count": 46,
   "metadata": {},
   "outputs": [
    {
     "data": {
      "text/plain": [
       "sex               0\n",
       "pneumonia         0\n",
       "age               0\n",
       "asthma            0\n",
       "hypertension      0\n",
       "cardiovascular    0\n",
       "covid_res         0\n",
       "dtype: int64"
      ]
     },
     "execution_count": 46,
     "metadata": {},
     "output_type": "execute_result"
    }
   ],
   "source": [
    "# Check the number of null values in each column\n",
    "dataset.isnull().sum()"
   ]
  },
  {
   "cell_type": "code",
   "execution_count": 59,
   "metadata": {},
   "outputs": [
    {
     "name": "stdout",
     "output_type": "stream",
     "text": [
      "Transformed Data:\n",
      "         sex  pneumonia  age  asthma  hypertension  cardiovascular  covid_res\n",
      "0         1          1   50       1             0               1          1\n",
      "1         1          1   42       1             1               1          1\n",
      "2         1          1   37       1             1               1          1\n",
      "3         0          0   44       1             1               1          1\n",
      "4         1          1   27       1             1               1          1\n",
      "...     ...        ...  ...     ...           ...             ...        ...\n",
      "308582    0          1   28       1             1               1          1\n",
      "308583    1          0   33       1             1               1          0\n",
      "308584    0          1   47       1             1               1          1\n",
      "308585    1          1   34       1             0               1          0\n",
      "308586    1          1   39       1             1               1          1\n",
      "\n",
      "[308587 rows x 7 columns]\n",
      "Numeric Array\n",
      " [[ 1  1 50 ...  0  1  1]\n",
      " [ 1  1 42 ...  1  1  1]\n",
      " [ 1  1 37 ...  1  1  1]\n",
      " ...\n",
      " [ 0  1 47 ...  1  1  1]\n",
      " [ 1  1 34 ...  0  1  0]\n",
      " [ 1  1 39 ...  1  1  1]]\n",
      "Training Sample:\n",
      " [[ 1  1 50 ...  0  1  1]\n",
      " [ 1  1 42 ...  1  1  1]\n",
      " [ 1  1 37 ...  1  1  1]\n",
      " ...\n",
      " [ 1  1 47 ...  0  1  0]\n",
      " [ 0  1 57 ...  1  1  1]\n",
      " [ 0  1 36 ...  1  1  0]]\n",
      "Test Sample\n",
      " [[ 0  1 31 ...  1  1  0]\n",
      " [ 1  1 38 ...  1  1  0]\n",
      " [ 0  1 55 ...  1  1  1]\n",
      " ...\n",
      " [ 0  1 47 ...  1  1  1]\n",
      " [ 1  1 34 ...  0  1  0]\n",
      " [ 1  1 39 ...  1  1  1]]\n",
      "Independent Attributes of Training sample\n",
      " [[ 1  1 50  1  0  1]\n",
      " [ 1  1 42  1  1  1]\n",
      " [ 1  1 37  1  1  1]\n",
      " ...\n",
      " [ 1  1 47  1  0  1]\n",
      " [ 0  1 57  1  1  1]\n",
      " [ 0  1 36  1  1  1]]\n",
      "Dependent Attribute of Training Sample\n",
      "\n",
      " [1 1 1 1 1 1 0 1 0 1 0 1 1 0 1 0 1 1 0 1 0 0 1 0 1 0 0 0 1 1 0 1 0 1 1 0 0\n",
      " 1 1 1 0 1 1 1 1 1 1 0 1 0 0 1 1 0 1 0 0 0 0 0 1 1 1 0 1 1 1 0 1 1 0 1 0 1\n",
      " 0 0 1 0 1 1 0 1 0 0 1 1 0 1 1 1 1 1 1 1 1 1 1 0 0 1 0 0 0 1 1 0 0 1 0 1 1\n",
      " 0 1 1 0 1 1 0 0 1 0 1 0 1 0 1 1 0 0 1 1 0 1 1 1 1 0 1 1 0 1 0 0 0 0 0 0 0\n",
      " 1 1 0 0 0 1 1 0 0 1 1 1 0 0 0 1 0 1 1 1 1 0 1 1 0 0 0 1 0 0 0 1 1 0 0 0 0\n",
      " 1 1 1 0 0 1 1 1 0 0 0 1 1 0 1 1 1 1 0 1 1 1 1 1 1 0 0 1 0 1 0 0 1 1 0 1 0\n",
      " 0 1 1 1 0 0 0 1 1 1 0 1 1 1 1 1 0 0 0 1 1 0 1 1 1 0 0 0 1 1 0 0 1 0 0 1 0\n",
      " 1 0 1 0 1 1 1 0 0 0 1 1 1 1 0 1 0 1 1 1 1 1 0 1 0 0 1 0 0 1 0 1 0 1 0 0 1\n",
      " 0 0 0 0 0 1 0 1 1 0 1 1 1 1 0 0 1 1 1 1 1 1 1 1 1 0 1 1 0 0 1 1 1 0 1 0 0\n",
      " 0 1 1 0 1 0 0 1 0 1 0 0 1 1 0 1 0 0 1 1 0 1 1 1 1 1 0 0 1 1 1 0 1 0 0 0 0\n",
      " 0 0 1 1 1 0 1 1 1 0 1 0 0 1 0 1 0 0 1 1 1 1 0 1 0 1 0 0 1 0 0 1 0 0 0 0 0\n",
      " 1 0 1 1 0 1 0 1 0 1 0 1 1 0 0 0 1 0 1 1 1 0 0 0 0 0 1 1 1 0 1 1 1 1 1 1 0\n",
      " 0 0 1 0 0 0 1 1 0 0 1 1 1 1 1 1 1 1 0 1 0 1 1 0 0 1 0 1 1 0 1 1 1 0 1 1 1\n",
      " 1 1 1 0 1 0 0 1 1 1 1 1 1 1 1 0 1 1 0 1 0 0 1 0 0 1 1 0 1 1 1 0 1 1 0 1 1\n",
      " 1 1 0 1 0 0 1 1 0 0 0 0 1 0 0 1 0 1 1 1 0 1 1 0 0 0 0 0 0 0 1 0 0 0 0 0 1\n",
      " 1 0 1 1 1 1 1 0 1 0 0 1 0 1 1 0 0 1 1 1 1 0 0 0 1 0 0 1 1 0 0 1 1 0 1 0 1\n",
      " 0 1 0 1 1 1 0 0 1 0 0 0 0 0 0 1 1 1 1 1 1 1 1 1 0 0 1 1 1 1 0 1 1 0 0 0 1\n",
      " 0 1 1 1 1 0 1 0 0 0 0 1 0 1 1 0 1 1 1 1 1 1 1 1 0 0 1 1 1 1 1 0 1 1 1 1 1\n",
      " 0 1 1 1 1 0 1 0 1 0 1 1 1 1 1 0 1 1 1 0 0 1 1 1 1 0 0 1 0 1 0 1 1 0 1 1 1\n",
      " 1 1 0 0 0 0 0 1 0 1 1 1 1 1 1 1 0 0 0 0 0 1 1 1 1 1 1 0 1 1 0 0 0 1 1 1 1\n",
      " 0 0 1 0 1 1 0 1 1 0 0 0 1 0 1 0 1 1 1 1 0 0 0 0 1 1 1 1 1 0 1 1 1 1 0 0 1\n",
      " 0 1 0 1 1 1 1 0 0 1 0 0 0 1 1 1 0 0 1 1 1 0 0 1 1 0 1 1 1 0 1 1 1 0 1 0 0\n",
      " 1 0 1 1 1 0 1 0 0 1 0 1 1 1 0 0 1 1 1 1 1 1 1 0 0 1 0 0 0 0 1 0 0 1 0 1 0\n",
      " 1 0 1 1 1 1 1 1 0 1 0 1 1 1 1 0 1 1 1 1 1 1 1 0 1 0 0 1 0 1 0 0 0 1 1 1 0\n",
      " 0 1 1 1 0 0 1 1 0 0 0 1 1 1 0 0 0 1 1 0 1 0 0 1 0 0 1 0 1 1 0 0 1 1 1 0 0\n",
      " 1 1 1 0 0 0 1 1 0 1 0 1 1 0 1 1 1 0 0 0 1 1 1 1 0 1 1 0 1 1 1 1 1 0 0 0 1\n",
      " 0 0 0 0 1 1 1 1 1 1 1 0 0 1 1 1 0 1 1 0 1 0 0 0 0 0 0 1 1 0 1 1 0 1 1 0 1\n",
      " 0]\n",
      "Independent Attributes of Test Sample\n",
      "\n",
      " [[ 0  1 31  1  1  1]\n",
      " [ 1  1 38  1  1  1]\n",
      " [ 0  1 55  1  1  1]\n",
      " ...\n",
      " [ 0  1 47  1  1  1]\n",
      " [ 1  1 34  1  0  1]\n",
      " [ 1  1 39  1  1  1]]\n",
      "dependent Attribute of Test Sample\n",
      "\n",
      " [0 0 1 ... 1 0 1]\n"
     ]
    }
   ],
   "source": [
    "#Pre-process the Data\n",
    "#i.Transform Target Population to Numeric array\n",
    "Encoder=preprocessing.LabelEncoder()\n",
    "Encoded_Data=dataset.apply(preprocessing.LabelEncoder().fit_transform)\n",
    "print(\"Transformed Data:\\n\",Encoded_Data)\n",
    "Numeric_Array=Encoded_Data.values\n",
    "print(\"Numeric Array\\n\",Numeric_Array)\n",
    "#ii. Select Samples\n",
    "#a. select training sample\n",
    "split=1000\n",
    "Training_Sample=Numeric_Array[:split,:]\n",
    "print(\"Training Sample:\\n\",Training_Sample)\n",
    "#b. Select Test Sample\n",
    "Test_Sample=Numeric_Array[split:,:]\n",
    "print(\"Test Sample\\n\",Test_Sample)\n",
    "#c.Select Independent Attributes Sample\n",
    "#1. Select independent attributes of training sample\n",
    "X_train=Training_Sample[:,:-1]\n",
    "print(\"Independent Attributes of Training sample\\n\", X_train)\n",
    "#2. Select Dependent attribute of Training sample\n",
    "y_train=Training_Sample[:,-1]\n",
    "print(\"Dependent Attribute of Training Sample\\n\\n\",y_train)\n",
    "#3. Select Independent attributes of Test Sample\n",
    "X_test= Test_Sample[:,:-1]\n",
    "print(\"Independent Attributes of Test Sample\\n\\n\",X_test)\n",
    "y_test= Test_Sample[:,-1]\n",
    "print(\"dependent Attribute of Test Sample\\n\\n\",y_test)"
   ]
  },
  {
   "cell_type": "code",
   "execution_count": 60,
   "metadata": {},
   "outputs": [],
   "source": [
    "\"\"\" LOGISTIC REGRESSION \"\"\"\n",
    "from sklearn.linear_model import LogisticRegression\n",
    "logclassifier = LogisticRegression(random_state = 20,max_iter=1000)\n",
    "logclassifier.fit(X_train, y_train)\n",
    "y_pred = logclassifier.predict(X_test)\n",
    "# Creating confusion matrix and calculating the accuracy score\n",
    "from sklearn.metrics import confusion_matrix, accuracy_score\n",
    "cm_logreg = confusion_matrix(y_test, y_pred)\n",
    "as_logreg=accuracy_score(y_test, y_pred)"
   ]
  },
  {
   "cell_type": "code",
   "execution_count": 61,
   "metadata": {},
   "outputs": [
    {
     "name": "stdout",
     "output_type": "stream",
     "text": [
      "[[ 42056  93625]\n",
      " [ 24551 147355]]\n"
     ]
    },
    {
     "data": {
      "image/png": "[encoded data removed]",
      "text/plain": [
       "<Figure size 432x288 with 2 Axes>"
      ]
     },
     "metadata": {
      "needs_background": "light"
     },
     "output_type": "display_data"
    }
   ],
   "source": [
    "#Construct the Confusion Matrix\n",
    "labels = ['1', '2']\n",
    "cm_logreg = confusion_matrix(y_test, y_pred)\n",
    "print(cm_logreg)\n",
    "fig = plt.figure()\n",
    "ax = fig.add_subplot(111)\n",
    "cax = ax.matshow(cm_logreg)\n",
    "plt.title('Confusion matrix of Logistic Regression')\n",
    "fig.colorbar(cax)\n",
    "ax.set_xticklabels([''] + labels)\n",
    "ax.set_yticklabels([''] + labels)\n",
    "plt.xlabel('Predicted')\n",
    "plt.ylabel('True')\n",
    "plt.show()"
   ]
  },
  {
   "cell_type": "code",
   "execution_count": 62,
   "metadata": {},
   "outputs": [],
   "source": [
    "\"\"\" K-NEAREST NEIGHBORS \"\"\"\n",
    "from sklearn.neighbors import KNeighborsClassifier\n",
    "knnclassifier = KNeighborsClassifier(n_neighbors = 5, metric = 'minkowski', p = 2)\n",
    "knnclassifier.fit(X_train, y_train)\n",
    "y_pred = knnclassifier.predict(X_test)\n",
    "# Creating confusion matrix and calculatin.g the accuracy score\n",
    "cm_knn = confusion_matrix(y_test, y_pred)\n",
    "as_knn=accuracy_score(y_test, y_pred)"
   ]
  },
  {
   "cell_type": "code",
   "execution_count": 63,
   "metadata": {},
   "outputs": [
    {
     "name": "stdout",
     "output_type": "stream",
     "text": [
      "[[ 46513  89168]\n",
      " [ 41846 130060]]\n"
     ]
    },
    {
     "data": {
      "image/png": "[encoded data removed]",
      "text/plain": [
       "<Figure size 432x288 with 2 Axes>"
      ]
     },
     "metadata": {
      "needs_background": "light"
     },
     "output_type": "display_data"
    }
   ],
   "source": [
    "#Construct the Confusion Matrix\n",
    "labels = ['1', '2', '3']\n",
    "cm_knn = confusion_matrix(y_test, y_pred,)\n",
    "print(cm_knn)\n",
    "fig = plt.figure()\n",
    "ax = fig.add_subplot(111)\n",
    "cax = ax.matshow(cm_logreg)\n",
    "plt.title('Confusion matrix of K Nearest Neighbors')\n",
    "fig.colorbar(cax)\n",
    "ax.set_xticklabels([''] + labels)\n",
    "ax.set_yticklabels([''] + labels)\n",
    "plt.xlabel('Predicted')\n",
    "plt.ylabel('True')\n",
    "plt.show()"
   ]
  },
  {
   "cell_type": "code",
   "execution_count": 64,
   "metadata": {},
   "outputs": [],
   "source": [
    "\"\"\" DECISION TREE CLASSIFICATION \"\"\"\n",
    "from sklearn.tree import DecisionTreeClassifier\n",
    "dtclassifier = DecisionTreeClassifier(criterion = 'entropy', random_state = 1000)\n",
    "dtclassifier.fit(X_train, y_train)\n",
    "y_pred = dtclassifier.predict(X_test)\n",
    "# Creating confusion matrix and calculating the accuracy score\n",
    "cm_dtc = confusion_matrix(y_test, y_pred)\n",
    "as_dtc = accuracy_score(y_test, y_pred)\n"
   ]
  },
  {
   "cell_type": "code",
   "execution_count": 69,
   "metadata": {},
   "outputs": [
    {
     "name": "stdout",
     "output_type": "stream",
     "text": [
      "[[125968      0]\n",
      " [     0      0]]\n"
     ]
    },
    {
     "data": {
      "image/png": "[encoded data removed]",
      "text/plain": [
       "<Figure size 432x288 with 2 Axes>"
      ]
     },
     "metadata": {
      "needs_background": "light"
     },
     "output_type": "display_data"
    }
   ],
   "source": [
    "#Construct the Confusion Matrix\n",
    "labels = ['1', '2']\n",
    "cm_dtc = confusion_matrix(y_test, y_pred,labels=[1,2])\n",
    "print(cm_dtc)\n",
    "fig = plt.figure()\n",
    "ax = fig.add_subplot(111)\n",
    "cax = ax.matshow(cm_logreg)\n",
    "plt.title('Confusion matrix of Decision Trees')\n",
    "fig.colorbar(cax)\n",
    "ax.set_xticklabels([''] + labels)\n",
    "ax.set_yticklabels([''] + labels)\n",
    "plt.xlabel('Predicted')\n",
    "plt.ylabel('True')\n",
    "plt.show()"
   ]
  },
  {
   "cell_type": "code",
   "execution_count": 66,
   "metadata": {},
   "outputs": [],
   "source": [
    "\"\"\" RANDOM FOREST CLASSIFIER \"\"\"\n",
    "from sklearn.ensemble import RandomForestClassifier\n",
    "rfclassifier = RandomForestClassifier(n_estimators = 500, criterion = 'entropy', random_state = 0)\n",
    "rfclassifier.fit(X_train, y_train)\n",
    "y_pred = rfclassifier.predict(X_test)\n",
    "# Creating confusion matrix and calculating the accuracy score\n",
    "cm_rfc = confusion_matrix(y_test, y_pred)\n",
    "as_rfc = accuracy_score(y_test, y_pred)"
   ]
  },
  {
   "cell_type": "code",
   "execution_count": 67,
   "metadata": {},
   "outputs": [
    {
     "name": "stdout",
     "output_type": "stream",
     "text": [
      "[[125968      0]\n",
      " [     0      0]]\n"
     ]
    },
    {
     "data": {
      "image/png": "[encoded data removed]",
      "text/plain": [
       "<Figure size 432x288 with 2 Axes>"
      ]
     },
     "metadata": {
      "needs_background": "light"
     },
     "output_type": "display_data"
    }
   ],
   "source": [
    "#Construct the Confusion Matrix\n",
    "labels = ['1', '2']\n",
    "cm_rfc = confusion_matrix(y_test, y_pred,labels=[1,2])\n",
    "print(cm_rfc)\n",
    "fig = plt.figure()\n",
    "ax = fig.add_subplot(111)\n",
    "cax = ax.matshow(cm_logreg)\n",
    "plt.title('Confusion matrix of Logistic Regression')\n",
    "fig.colorbar(cax)\n",
    "ax.set_xticklabels([''] + labels)\n",
    "ax.set_yticklabels([''] + labels)\n",
    "plt.xlabel('Predicted')\n",
    "plt.ylabel('True')\n",
    "plt.show()"
   ]
  },
  {
   "cell_type": "code",
   "execution_count": 68,
   "metadata": {},
   "outputs": [
    {
     "name": "stdout",
     "output_type": "stream",
     "text": [
      "as_logreg=0.6157965063542997\n",
      "as_knn=0.5740587215974667\n",
      "as_dtc=0.582033701034179\n",
      "as_rfc=0.5841274176086766\n",
      "The best accuracy score in this case is as_logreg with accuracy score 0.6157965063542997\n"
     ]
    }
   ],
   "source": [
    "# Evaluating the best method to use\n",
    "score={'as_logreg':as_logreg, 'as_knn':as_knn,'as_dtc':as_dtc, 'as_rfc':as_rfc}\n",
    "score_list=[]\n",
    "for i in score:\n",
    "    score_list.append(score[i])\n",
    "    u=max(score_list)\n",
    "    if score[i]==u:\n",
    "        v=i  \n",
    "    print(f\"{i}={score[i]}\");   \n",
    "print(f\"The best accuracy score in this case is {v} with accuracy score {u}\")"
   ]
  },
  {
   "cell_type": "code",
   "execution_count": null,
   "metadata": {},
   "outputs": [],
   "source": []
  },
  {
   "cell_type": "code",
   "execution_count": null,
   "metadata": {},
   "outputs": [],
   "source": []
  }
 ],
 "metadata": {
  "kernelspec": {
   "display_name": "Python 3",
   "language": "python",
   "name": "python3"
  },
  "language_info": {
   "codemirror_mode": {
    "name": "ipython",
    "version": 3
   },
   "file_extension": ".py",
   "mimetype": "text/x-python",
   "name": "python",
   "nbconvert_exporter": "python",
   "pygments_lexer": "ipython3",
   "version": "3.8.5"
  }
 },
 "nbformat": 4,
 "nbformat_minor": 4
}
